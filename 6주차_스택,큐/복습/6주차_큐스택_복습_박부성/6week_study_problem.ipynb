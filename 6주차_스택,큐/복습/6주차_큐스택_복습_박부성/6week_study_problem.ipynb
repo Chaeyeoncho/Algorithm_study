{
 "cells": [
  {
   "cell_type": "markdown",
   "metadata": {},
   "source": [
    "## 4949\n",
    "https://www.acmicpc.net/problem/4949"
   ]
  },
  {
   "cell_type": "code",
   "execution_count": 16,
   "metadata": {},
   "outputs": [
    {
     "name": "stdout",
     "output_type": "stream",
     "text": [
      "yes\n",
      "<built-in method count of list object at 0x000001A709D007C0>\n"
     ]
    }
   ],
   "source": [
    "import sys\n",
    "dic = {\n",
    "    ')' : '(',\n",
    "    '}' : '{',\n",
    "    ']' : '['\n",
    "}\n",
    "stack = []\n",
    "\n",
    "\n",
    "while(True):\n",
    "    is_v = True\n",
    "    cmd = sys.stdin.readline()\n",
    "    if cmd[0] == '.' : break\n",
    "    for char in cmd:\n",
    "        if char == '(' or char == '{' or char == '[':\n",
    "            stack.append(char)\n",
    "        elif char == ')' or char == '}' or char == ']' : \n",
    "            if stack and stack[-1] == dic[char] :\n",
    "                stack.pop()\n",
    "            else : \n",
    "                is_v = False\n",
    "                break\n",
    "    if is_v and not stack:\n",
    "        print('yes')\n",
    "    else:\n",
    "        print('no')\n",
    "    stack.clear()\n",
    "        "
   ]
  },
  {
   "cell_type": "markdown",
   "metadata": {},
   "source": [
    "## 9012\n",
    "\n",
    "https://www.acmicpc.net/problem/9012"
   ]
  },
  {
   "cell_type": "code",
   "execution_count": null,
   "metadata": {},
   "outputs": [],
   "source": [
    "n = int(input())\n",
    "stack = []\n",
    "\n",
    "\n",
    "for _ in range(n):\n",
    "    is_valid = True\n",
    "    cmd = input()\n",
    "    for char in cmd:\n",
    "        if char == '(':\n",
    "            stack.append(char)\n",
    "        elif char == ')':\n",
    "            if stack and stack[-1] == '(':\n",
    "                stack.pop()\n",
    "            else:\n",
    "                is_valid = False\n",
    "                break\n",
    "    if is_valid and not stack :\n",
    "        print(\"YES\")\n",
    "    else:\n",
    "        print(\"NO\")\n",
    "    stack.clear()"
   ]
  },
  {
   "cell_type": "markdown",
   "metadata": {},
   "source": [
    "## 9093\n",
    "\n",
    "https://www.acmicpc.net/problem/9093"
   ]
  },
  {
   "cell_type": "code",
   "execution_count": null,
   "metadata": {},
   "outputs": [],
   "source": [
    "import sys\n",
    "\n",
    "\n",
    "t = int(input())\n",
    "stack = []\n",
    "cnt = 0\n",
    "for i in range(t):\n",
    "    stack.clear()\n",
    "    cmd = sys.stdin.readline().split()\n",
    "    for j in range(len(cmd)):\n",
    "        stack.clear()\n",
    "        for k in range(len(cmd[j])):\n",
    "            stack.append(cmd[j][k])\n",
    "        for k in range(len(cmd[j])):\n",
    "            print(stack.pop(),end='')\n",
    "        print(' ',end='')\n",
    "    print()\n"
   ]
  }
 ],
 "metadata": {
  "kernelspec": {
   "display_name": "Python 3",
   "language": "python",
   "name": "python3"
  },
  "language_info": {
   "codemirror_mode": {
    "name": "ipython",
    "version": 3
   },
   "file_extension": ".py",
   "mimetype": "text/x-python",
   "name": "python",
   "nbconvert_exporter": "python",
   "pygments_lexer": "ipython3",
   "version": "3.12.2"
  }
 },
 "nbformat": 4,
 "nbformat_minor": 2
}
