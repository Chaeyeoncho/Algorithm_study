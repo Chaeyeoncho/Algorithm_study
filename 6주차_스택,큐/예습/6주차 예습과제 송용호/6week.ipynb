{
 "cells": [
  {
   "cell_type": "markdown",
   "metadata": {},
   "source": [
    "## 10845\n",
    "\n",
    "https://www.acmicpc.net/problem/10845"
   ]
  },
  {
   "cell_type": "code",
   "execution_count": 2,
   "metadata": {},
   "outputs": [],
   "source": [
    "from collections import deque\n",
    "def queue_commands(commands):\n",
    "    queue = deque()\n",
    "    result = []\n",
    "\n",
    "    for command in commands:\n",
    "        if command.startswith(\"push\"):\n",
    "            _, value = command.split()\n",
    "            queue.append(int(value))\n",
    "        elif command == \"pop\":\n",
    "            result.append(queue.popleft() if queue else -1)\n",
    "        elif command == \"size\":\n",
    "            result.append(len(queue))\n",
    "        elif command == \"empty\":\n",
    "            result.append(0 if queue else 1)\n",
    "        elif command == \"front\":\n",
    "            result.append(queue[0] if queue else -1)\n",
    "        elif command == \"back\":\n",
    "            result.append(queue[-1] if queue else -1)\n",
    "\n",
    "    return result"
   ]
  },
  {
   "cell_type": "code",
   "execution_count": 4,
   "metadata": {},
   "outputs": [
    {
     "name": "stdout",
     "output_type": "stream",
     "text": [
      "1\n"
     ]
    }
   ],
   "source": [
    "n = int(input())\n",
    "commands = [input().strip() for _ in range(n)]\n",
    "results = queue_commands(commands)\n",
    "print(\"\\n\".join(map(str, results)))"
   ]
  },
  {
   "cell_type": "markdown",
   "metadata": {},
   "source": [
    "## 23284\n",
    "https://www.acmicpc.net/problem/23284"
   ]
  },
  {
   "cell_type": "code",
   "execution_count": null,
   "metadata": {},
   "outputs": [],
   "source": [
    "못품ㅜㅜㅜㅜㅜㅜㅜㅜㅜㅜ"
   ]
  },
  {
   "cell_type": "markdown",
   "metadata": {},
   "source": [
    "## 10828\n",
    "https://www.acmicpc.net/problem/10828"
   ]
  },
  {
   "cell_type": "code",
   "execution_count": null,
   "metadata": {},
   "outputs": [],
   "source": [
    "from collections import deque\n",
    "\n",
    "def stack_commands(commands):\n",
    "    stack = deque()\n",
    "    result = []\n",
    "\n",
    "    for command in commands:\n",
    "        if command.startswith(\"push\"):\n",
    "            _, value = command.split()\n",
    "            stack.append(int(value))\n",
    "        elif command == \"pop\":\n",
    "            result.append(stack.pop() if stack else -1)\n",
    "        elif command == \"size\":\n",
    "            result.append(len(stack))\n",
    "        elif command == \"empty\":\n",
    "            result.append(0 if stack else 1)\n",
    "        elif command == \"top\":\n",
    "            result.append(stack[-1] if stack else -1)\n",
    "\n",
    "    return result\n",
    "\n",
    "\n"
   ]
  },
  {
   "cell_type": "code",
   "execution_count": null,
   "metadata": {},
   "outputs": [],
   "source": [
    "n = int(input())\n",
    "commands = [input().strip() for _ in range(n)]\n",
    "results = stack_commands(commands)\n",
    "print(\"\\n\".join(map(str, results)))"
   ]
  }
 ],
 "metadata": {
  "kernelspec": {
   "display_name": "Python 3",
   "language": "python",
   "name": "python3"
  },
  "language_info": {
   "codemirror_mode": {
    "name": "ipython",
    "version": 3
   },
   "file_extension": ".py",
   "mimetype": "text/x-python",
   "name": "python",
   "nbconvert_exporter": "python",
   "pygments_lexer": "ipython3",
   "version": "3.10.14"
  }
 },
 "nbformat": 4,
 "nbformat_minor": 2
}
